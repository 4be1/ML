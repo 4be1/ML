{
 "cells": [
  {
   "cell_type": "code",
   "execution_count": 3,
   "id": "0d75f08a",
   "metadata": {},
   "outputs": [],
   "source": [
    "import scipy\n",
    "import numpy as np\n",
    "from sklearn import metrics "
   ]
  },
  {
   "cell_type": "code",
   "execution_count": null,
   "id": "9a03940c",
   "metadata": {},
   "outputs": [],
   "source": [
    "# In this example we will not: Scale the data or splite the data into train/test \n",
    "# since the focus is purely the algorithm"
   ]
  },
  {
   "cell_type": "code",
   "execution_count": 2,
   "id": "3f4f43e7",
   "metadata": {},
   "outputs": [],
   "source": [
    "# Forward pass \n",
    "# backward propagation\n",
    "# gradient descent"
   ]
  },
  {
   "cell_type": "code",
   "execution_count": null,
   "id": "fbf0ee1a",
   "metadata": {},
   "outputs": [],
   "source": [
    "######################################################################################################################################\n",
    "########## Single iteration of a forward pass \n",
    "######################################################################################################################################"
   ]
  },
  {
   "cell_type": "code",
   "execution_count": 10,
   "id": "e8127140",
   "metadata": {
    "scrolled": true
   },
   "outputs": [
    {
     "name": "stdout",
     "output_type": "stream",
     "text": [
      "X: (569, 30)\n",
      "y: (569, 1)\n",
      "m: 569\n",
      "n: 30\n",
      "features ['mean radius' 'mean texture' 'mean perimeter' 'mean area'\n",
      " 'mean smoothness' 'mean compactness' 'mean concavity'\n",
      " 'mean concave points' 'mean symmetry' 'mean fractal dimension'\n",
      " 'radius error' 'texture error' 'perimeter error' 'area error'\n",
      " 'smoothness error' 'compactness error' 'concavity error'\n",
      " 'concave points error' 'symmetry error' 'fractal dimension error'\n",
      " 'worst radius' 'worst texture' 'worst perimeter' 'worst area'\n",
      " 'worst smoothness' 'worst compactness' 'worst concavity'\n",
      " 'worst concave points' 'worst symmetry' 'worst fractal dimension']\n"
     ]
    }
   ],
   "source": [
    "#read in the data for breast cancer dataset from sklearn\n",
    "from sklearn.datasets import load_breast_cancer\n",
    "\n",
    "\n",
    "#place dataset into ds variable \n",
    "ds = load_breast_cancer()\n",
    "\n",
    "# feature matrix X: mxn\n",
    "X = ds.data\n",
    "print(\"X:\",X.shape)\n",
    "\n",
    "\n",
    "# target y: mx1\n",
    "y = ds.target\n",
    "y = y.reshape(y.shape[0],1)\n",
    "print(\"y:\",y.shape)\n",
    "\n",
    "# number of samples: m\n",
    "m = X.shape[0]\n",
    "print(\"m:\",m)\n",
    "\n",
    "# number of features: n\n",
    "n = X.shape[1]\n",
    "features = ds.feature_names\n",
    "print(\"n:\",n)\n",
    "print(\"features\",features)"
   ]
  },
  {
   "cell_type": "code",
   "execution_count": null,
   "id": "e341d4aa",
   "metadata": {},
   "outputs": [],
   "source": []
  },
  {
   "cell_type": "code",
   "execution_count": 11,
   "id": "a118bc89",
   "metadata": {},
   "outputs": [],
   "source": [
    "# Initialize hyperparameter and model parameters\n",
    "\n",
    "# Model parameter: anything that we estimate as part of training.\n",
    "# this would be anything inside of the loop of forward pass, backward propagation, gradient descent (think w's and b)\n",
    "\n",
    "\n",
    "# Hyperparameters: are set before we enter the loop. alpah, number of iterations (niterations)"
   ]
  },
  {
   "cell_type": "code",
   "execution_count": 15,
   "id": "ab211e36",
   "metadata": {},
   "outputs": [],
   "source": [
    "# set hyperparameter, learning rate - alpha \n",
    "\n",
    "alpha = 2.5e-6\n",
    "\n",
    "#set hyperparameter, nepochs\n",
    "nepochs = 5000\n",
    "\n",
    "#initialize model parameters, e and b with 0's\n",
    "\n",
    "w = np.zeros((n,1))\n",
    "b = 0"
   ]
  },
  {
   "cell_type": "code",
   "execution_count": null,
   "id": "308a40dc",
   "metadata": {},
   "outputs": [],
   "source": []
  },
  {
   "cell_type": "code",
   "execution_count": 12,
   "id": "b7d6aeb7",
   "metadata": {},
   "outputs": [],
   "source": [
    "# Lets first see how we can do a single iteration of the forward pass\n",
    "# (FP) follwed by backward propagation (BP) followed by gradient descent (GD)"
   ]
  },
  {
   "cell_type": "code",
   "execution_count": 27,
   "id": "fc70773c",
   "metadata": {},
   "outputs": [
    {
     "name": "stdout",
     "output_type": "stream",
     "text": [
      "z:   (569, 1)\n",
      "yhat:(569, 1)\n",
      "J:    0.6931471805599453\n"
     ]
    }
   ],
   "source": [
    "# z will have the same shape as y or yhat. We should have the same number of yhat values as y \n",
    "\n",
    "# single iteration of \"forward pass\" (calculate current loss):\n",
    "\n",
    "#affin transformationz: mx1\n",
    "\n",
    "z = X@w+b\n",
    "print(\"z:   \"+str(z.shape))\n",
    "\n",
    "# non-linear activation yhat: mx1\n",
    "# yhat = 1./(1+np.exp(-z))\n",
    "# using built-in function scipy.special.expit instead to avoid overflow error \n",
    "\n",
    "yhat = scipy.special.expit(z)\n",
    "print(\"yhat:\"+str(yhat.shape))\n",
    "\n",
    "# avg log-loss J: scalar \n",
    "# J = (-1./m) * (y.T@np.log(yhat)+ (1-y.T)@np.log(1-yhat))\n",
    "# using built-in function sklearn.metrics.log_loss instead to avoid overflow \n",
    "\n",
    "J = metrics.log_loss(y,yhat)\n",
    "print(\"J:    \"+str(J))"
   ]
  },
  {
   "cell_type": "code",
   "execution_count": 21,
   "id": "9885523d",
   "metadata": {},
   "outputs": [],
   "source": [
    "######################################################################################################################################\n",
    "############## Calculate current gradient - Backward propagation \n",
    "######################################################################################################################################"
   ]
  },
  {
   "cell_type": "code",
   "execution_count": 28,
   "id": "6f7cd917",
   "metadata": {},
   "outputs": [
    {
     "name": "stdout",
     "output_type": "stream",
     "text": [
      "(30, 1)\n",
      "(1, 1)\n"
     ]
    }
   ],
   "source": [
    "# single iteration of \"backward propagation\" (calculate current gradient):\n",
    "\n",
    "# below is an example of vectorization\n",
    "# dj+dw: nx1 (same as w)\n",
    "dj_dw = (1/m)*X.T@(yhat-y)\n",
    "print(dj_dw.shape)\n",
    "\n",
    "# dj_db: scalar (same as b)\n",
    "dj_db = (1/m)*np.sum((yhat-y),axis=0,keepdims=True)\n",
    "print(dj_db.shape)"
   ]
  },
  {
   "cell_type": "code",
   "execution_count": 29,
   "id": "b67cfeae",
   "metadata": {},
   "outputs": [],
   "source": [
    "######################################################################################################################################\n",
    "############## Update parameters (gradient descent)\n",
    "######################################################################################################################################"
   ]
  },
  {
   "cell_type": "code",
   "execution_count": 31,
   "id": "eadd2816",
   "metadata": {},
   "outputs": [
    {
     "name": "stdout",
     "output_type": "stream",
     "text": [
      "(30, 1)\n",
      "(1, 1)\n"
     ]
    }
   ],
   "source": [
    "# single iteration of \"gradient descent\" (update parameters):\n",
    "\n",
    "# update w: nx1\n",
    "\n",
    "w = w -(alpha*dj_dw)\n",
    "print(w.shape)\n",
    "\n",
    "# update b: scalar\n",
    "b = b -(alpha*dj_db) \n",
    "print(b.shape)\n",
    "\n"
   ]
  },
  {
   "cell_type": "code",
   "execution_count": null,
   "id": "114b73d8",
   "metadata": {},
   "outputs": [],
   "source": []
  }
 ],
 "metadata": {
  "kernelspec": {
   "display_name": "Python 3 (ipykernel)",
   "language": "python",
   "name": "python3"
  },
  "language_info": {
   "codemirror_mode": {
    "name": "ipython",
    "version": 3
   },
   "file_extension": ".py",
   "mimetype": "text/x-python",
   "name": "python",
   "nbconvert_exporter": "python",
   "pygments_lexer": "ipython3",
   "version": "3.8.2"
  }
 },
 "nbformat": 4,
 "nbformat_minor": 5
}
