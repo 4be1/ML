{
 "cells": [
  {
   "cell_type": "code",
   "execution_count": 16,
   "id": "06118755",
   "metadata": {},
   "outputs": [],
   "source": [
    "import numpy as np\n",
    "import matplotlib.pyplot as plt"
   ]
  },
  {
   "cell_type": "code",
   "execution_count": 17,
   "id": "ac0a9d08",
   "metadata": {},
   "outputs": [],
   "source": [
    "# cost at particular value of w1\n",
    "def calc_J(w1):\n",
    "    return (5.5*w1*w1 - 1463*w1 + 100812.5)\n",
    "\n",
    "# slope at particular value of w1\n",
    "def calc_dJ_dw1(w1):\n",
    "    return (11*w1 - 1463)"
   ]
  },
  {
   "cell_type": "code",
   "execution_count": 24,
   "id": "7e0ccd6c",
   "metadata": {},
   "outputs": [],
   "source": [
    "def initialize_params():\n",
    "    \n",
    "#    alpha=0.08; niterations = 25; w1 = 60 # Scenario 1: steady convergence\n",
    "#    alpha=0.05; niterations = 25; w1 = 60 # Scenario 2: slow convergence\n",
    "    alpha=0.15; niterations = 25; w1 = 60 # Scenario 3: osciallating convergence\n",
    "#     alpha=0.19; niterations = 25; w1 = 60 # Scenario 4: divergence\n",
    "    return(alpha,niterations,w1)\n"
   ]
  },
  {
   "cell_type": "code",
   "execution_count": 26,
   "id": "cacf7345",
   "metadata": {},
   "outputs": [
    {
     "name": "stdout",
     "output_type": "stream",
     "text": [
      "3523.0 133.0\n"
     ]
    }
   ],
   "source": [
    "# initialize hyperprameters and parameters for gradient descent\n",
    "alpha, niterations, w1 = initialize_params()\n",
    "\n",
    "calc_J(w1)\n",
    "\n",
    "#print(\"{:.2f}\".format(w1))\n",
    "\n",
    "#print(\"{:.2f}\".format(calc_J(w1)))\n",
    "\n",
    "\n",
    "\n",
    "\n",
    "# run gradient descent for niterations\n",
    "for i in range(niterations):\n",
    "    \n",
    "\n",
    "    # Step 3: calculate new value of w1\n",
    "    # your code here\n",
    "    w1 = w1 - (alpha*calc_dJ_dw1(w1))\n",
    "    \n",
    "    \n",
    "    # Step 4: calculate new value of J at new w1\n",
    "    # your code here\n",
    "    J = calc_J(w1)\n",
    "    \n",
    "    # Step 5: print w1 (rounded to 2 decimal places) and J (rounded to 2 decimal places)\n",
    "    # your code here\n",
    "#    print('------------------')\n",
    "#    print('Run:'+str(i))\n",
    "#    print('                  ')\n",
    "#    print(\"{:.2f}\".format(w1))\n",
    "    \n",
    "print(round(calc_J(w1),2),round(w1,2))"
   ]
  },
  {
   "cell_type": "code",
   "execution_count": 37,
   "id": "969edf2c",
   "metadata": {},
   "outputs": [
    {
     "data": {
      "image/png": "[encoded data removed]",
      "text/plain": [
       "<Figure size 432x288 with 1 Axes>"
      ]
     },
     "metadata": {
      "needs_background": "light"
     },
     "output_type": "display_data"
    }
   ],
   "source": [
    "# plot the cost curve (in grey)\n",
    "w1_vals = np.linspace(0, 250, 25)\n",
    "J_vals = 5.5*w1_vals*w1_vals - 1463*w1_vals + 100812.5\n",
    "plt.plot(w1_vals, J_vals, color='grey', linestyle='dotted')\n",
    "\n",
    "# initialize hyperprameters and parameters for gradient descent\n",
    "alpha, niterations, w1 = initialize_params()\n",
    "\n",
    "# we'll capture the values of w1 and J at each iteration of gradient descent in these lists  \n",
    "w1_gdvals = []\n",
    "J_gdvals = []\n",
    "\n",
    "# run gradient descent for niterations\n",
    "for i in range(niterations):\n",
    "    w1_gdvals.append(w1)\n",
    "    J_gdvals.append(calc_J(w1))\n",
    "    w1 = w1 - alpha*calc_dJ_dw1(w1)\n",
    "\n",
    "# plot the value of w1 (and corresponding value of J) at each iteration of gradient descent  \n",
    "# (using green arrows)\n",
    "# we hope that gradient descent will move to the optimal value of w1 (corresponding to min J)\n",
    "# as the iterations progress\n",
    "w1_gdvals = np.array(w1_gdvals)\n",
    "J_gdvals = np.array(J_gdvals)\n",
    "plt.quiver(w1_gdvals[:-1], J_gdvals[:-1], \n",
    "           w1_gdvals[1:]-w1_gdvals[:-1], J_gdvals[1:]-J_gdvals[:-1], \n",
    "           scale_units='xy', angles='xy', scale=1, color='green')\n",
    "\n",
    "# show the loss function J vs w1 (in grey) and the path that gradient descent took (in green)\n",
    "plt.title(\"alpha = \" + str(alpha))\n",
    "plt.xlabel(\"w1\")\n",
    "plt.ylabel(\"J\")\n",
    "plt.show()"
   ]
  },
  {
   "cell_type": "code",
   "execution_count": 35,
   "id": "737ae309",
   "metadata": {},
   "outputs": [],
   "source": [
    "#w1_gdvals"
   ]
  },
  {
   "cell_type": "code",
   "execution_count": 36,
   "id": "ecaa97ee",
   "metadata": {},
   "outputs": [],
   "source": [
    "#J_gdvals"
   ]
  },
  {
   "cell_type": "code",
   "execution_count": 38,
   "id": "ec937937",
   "metadata": {},
   "outputs": [
    {
     "data": {
      "image/png": "[encoded data removed]",
      "text/plain": [
       "<Figure size 432x288 with 1 Axes>"
      ]
     },
     "metadata": {
      "needs_background": "light"
     },
     "output_type": "display_data"
    }
   ],
   "source": [
    "# show the loss function J vs iteration\n",
    "plt.plot(J_gdvals)\n",
    "plt.title(\"alpha = \" + str(alpha))\n",
    "plt.xlabel(\"iteration\")\n",
    "plt.ylabel(\"J\")\n",
    "plt.show()"
   ]
  },
  {
   "cell_type": "code",
   "execution_count": null,
   "id": "0bc6fd1c",
   "metadata": {},
   "outputs": [],
   "source": []
  }
 ],
 "metadata": {
  "kernelspec": {
   "display_name": "Python 3 (ipykernel)",
   "language": "python",
   "name": "python3"
  },
  "language_info": {
   "codemirror_mode": {
    "name": "ipython",
    "version": 3
   },
   "file_extension": ".py",
   "mimetype": "text/x-python",
   "name": "python",
   "nbconvert_exporter": "python",
   "pygments_lexer": "ipython3",
   "version": "3.8.2"
  }
 },
 "nbformat": 4,
 "nbformat_minor": 5
}
